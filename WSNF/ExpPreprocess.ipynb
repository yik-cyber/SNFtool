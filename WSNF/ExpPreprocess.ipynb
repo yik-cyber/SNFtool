{
 "metadata": {
  "language_info": {
   "codemirror_mode": {
    "name": "ipython",
    "version": 3
   },
   "file_extension": ".py",
   "mimetype": "text/x-python",
   "name": "python",
   "nbconvert_exporter": "python",
   "pygments_lexer": "ipython3",
   "version": "3.9.4"
  },
  "orig_nbformat": 2,
  "kernelspec": {
   "name": "python394jvsc74a57bd00d008810b9c8467bcb3ca39aa2180e5b81b3a9acb136aab30d47954377cc5120",
   "display_name": "Python 3.9.4 64-bit"
  },
  "metadata": {
   "interpreter": {
    "hash": "0d008810b9c8467bcb3ca39aa2180e5b81b3a9acb136aab30d47954377cc5120"
   }
  }
 },
 "nbformat": 4,
 "nbformat_minor": 2,
 "cells": [
  {
   "cell_type": "code",
   "execution_count": 1,
   "metadata": {},
   "outputs": [
    {
     "output_type": "stream",
     "name": "stdout",
     "text": [
      "gen_exp shape:  (1500, 100)\nmiRNAExp shape:  (470, 100)\nranking shape:  (22008, 3)\n"
     ]
    }
   ],
   "source": [
    "import pandas as pd\n",
    "import numpy as np\n",
    "\n",
    "# 行为feature 列为patients\n",
    "gen_exp = pd.read_csv('data/GeneExp.csv')\n",
    "gen_name = list(gen_exp.index)\n",
    "gen_exp = np.array(gen_exp)\n",
    "print('gen_exp shape: ', gen_exp.shape)\n",
    "\n",
    "miRNAExp = pd.read_csv('data/miRNAExp.csv')\n",
    "miRNAExp_id = list(miRNAExp.index)\n",
    "miRNAExp = np.array(miRNAExp)\n",
    "print('miRNAExp shape: ', miRNAExp.shape)\n",
    "\n",
    "ranking = pd.read_csv('data/Ranking.csv')\n",
    "ranking = np.array(ranking)\n",
    "print('ranking shape: ', ranking.shape)"
   ]
  },
  {
   "cell_type": "code",
   "execution_count": 2,
   "metadata": {},
   "outputs": [
    {
     "output_type": "stream",
     "name": "stdout",
     "text": [
      "(1500,) (470,)\n(1500, 100) (470, 100)\n"
     ]
    }
   ],
   "source": [
    "# gen exp的ranking，如果没有取最小值\n",
    "gen_ranking = []\n",
    "symbol = ranking[:, 1]\n",
    "for name in gen_name:\n",
    "    # mRNA_TF_miRNA.v21_SYMBOL\n",
    "    idx = np.where(symbol == name)\n",
    "    if idx[0].size:\n",
    "        gen_ranking.append(ranking[idx[0][0]][2])\n",
    "    else:\n",
    "        gen_ranking.append(np.nan)\n",
    "gen_ranking = np.array(gen_ranking)\n",
    "min_default = np.nanmin(gen_ranking)\n",
    "gen_ranking[np.isnan(gen_ranking)] = min_default\n",
    "\n",
    "\n",
    "# miRNA exp的ranking，如果没有取最小值\n",
    "miRNA_ranking = []\n",
    "ID_ = ranking[:, 0]\n",
    "for id_ in miRNAExp_id:\n",
    "    # mRNA_TF_miRNA_ID\n",
    "    idx = np.where(ID_ == id_)\n",
    "    if idx[0].size:\n",
    "        miRNA_ranking.append(ranking[idx[0][0]][2])\n",
    "    else:\n",
    "        miRNA_ranking.append(np.nan)\n",
    "miRNA_ranking = np.array(miRNA_ranking)\n",
    "min_default = np.nanmin(miRNA_ranking)\n",
    "miRNA_ranking[np.isnan(miRNA_ranking)] = min_default\n",
    "\n",
    "\n",
    "ranking1 = [gen_ranking, miRNA_ranking]\n",
    "gbm = [gen_exp, miRNAExp]\n",
    "print(gen_ranking.shape, miRNA_ranking.shape)\n",
    "print(gen_exp.shape, miRNAExp.shape)"
   ]
  },
  {
   "cell_type": "code",
   "execution_count": 5,
   "metadata": {},
   "outputs": [],
   "source": [
    "np.save('data/gen_exp.npy', gen_exp)\n",
    "np.save('data/gen_ranking.npy', gen_ranking)\n",
    "np.save('data/miRNAExp.npy', miRNAExp)\n",
    "np.save('data/miRNA_ranking.npy', miRNA_ranking)"
   ]
  },
  {
   "cell_type": "code",
   "execution_count": 3,
   "metadata": {},
   "outputs": [],
   "source": [
    "from WSNF import *"
   ]
  },
  {
   "cell_type": "code",
   "execution_count": 4,
   "metadata": {},
   "outputs": [
    {
     "output_type": "stream",
     "name": "stdout",
     "text": [
      "mat shape:  (1500, 100)\nmat shape:  (470, 100)\n"
     ]
    }
   ],
   "source": [
    "result = WSNF(datasets=gbm, feature_rankings=ranking1,\n",
    "                   beta = 0.8, K = 20,alpha = 0.5, t = 20)"
   ]
  },
  {
   "cell_type": "code",
   "execution_count": null,
   "metadata": {},
   "outputs": [],
   "source": []
  }
 ]
}