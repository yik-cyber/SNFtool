{
 "metadata": {
  "language_info": {
   "codemirror_mode": {
    "name": "ipython",
    "version": 3
   },
   "file_extension": ".py",
   "mimetype": "text/x-python",
   "name": "python",
   "nbconvert_exporter": "python",
   "pygments_lexer": "ipython3",
   "version": "3.7.4"
  },
  "orig_nbformat": 2,
  "kernelspec": {
   "name": "python374jvsc74a57bd06ad2903d9f8eb78095a8e1054d3b7d96029c25240c1559c5c7674409ebbac066",
   "display_name": "Python 3.7.4 64-bit ('base': conda)"
  }
 },
 "nbformat": 4,
 "nbformat_minor": 2,
 "cells": [
  {
   "cell_type": "code",
   "execution_count": 1,
   "metadata": {},
   "outputs": [],
   "source": [
    "import torch\n",
    "import torch.nn as nn\n",
    "import torch.optim as optim\n",
    "from torch.utils.data import DataLoader, random_split\n",
    "from ANF.net import ANF_net, ANFDataset\n",
    "import numpy as np\n",
    "import matplotlib.pyplot as plt"
   ]
  },
  {
   "cell_type": "code",
   "execution_count": 2,
   "metadata": {},
   "outputs": [],
   "source": [
    "dataset = ANFDataset('./dataset/ANFdata/', 'adrenal_gland')\n",
    "n_sample = len(dataset)\n",
    "n_train = int(n_sample*0.5)\n",
    "n_test = n_sample - n_train\n",
    "train_set, test_set = random_split(dataset, [n_train, n_test])\n",
    "train_dataloader = DataLoader(train_set, batch_size = 16, shuffle=True)\n",
    "test_dataloader = DataLoader(test_set, batch_size = 16, shuffle=True)\n",
    "n_patient = dataset[0][0].size()[1]\n",
    "n_feature = dataset[0][0].size()[0]\n",
    "n_cluster = len(np.unique(dataset[:][1][0]))"
   ]
  },
  {
   "cell_type": "code",
   "execution_count": 3,
   "metadata": {},
   "outputs": [],
   "source": [
    "loss_list = []\n",
    "def train_loop(dataloader, model, loss_fn, optimizer, noisy_label = False):\n",
    "    for batch, (x, label) in enumerate(dataloader):\n",
    "        if noisy_label:\n",
    "            label = label[1]\n",
    "        else:\n",
    "            label = label[0] #true label\n",
    "        output = model(x)\n",
    "        loss = loss_fn(output, label)\n",
    "\n",
    "        optimizer.zero_grad()\n",
    "        loss.backward()\n",
    "        optimizer.step()\n",
    "\n",
    "        loss_list.append(loss.item())\n",
    "        if(batch % 100 == 0):\n",
    "            print('{} : loss={:.6f}'.format(batch, loss.item()))"
   ]
  },
  {
   "cell_type": "code",
   "execution_count": 4,
   "metadata": {},
   "outputs": [
    {
     "output_type": "stream",
     "name": "stdout",
     "text": [
      "epoch 1\n",
      "0 : loss=0.728734\n",
      "epoch 2\n",
      "0 : loss=0.484901\n",
      "epoch 3\n",
      "0 : loss=0.489949\n",
      "epoch 4\n",
      "0 : loss=0.545315\n",
      "epoch 5\n",
      "0 : loss=0.535465\n",
      "epoch 6\n",
      "0 : loss=0.551197\n",
      "epoch 7\n",
      "0 : loss=0.324048\n",
      "epoch 8\n",
      "0 : loss=0.389316\n",
      "epoch 9\n",
      "0 : loss=0.195062\n",
      "epoch 10\n",
      "0 : loss=0.094920\n",
      "epoch 11\n",
      "0 : loss=0.027155\n",
      "epoch 12\n",
      "0 : loss=0.010274\n",
      "epoch 13\n",
      "0 : loss=0.013337\n",
      "epoch 14\n",
      "0 : loss=0.002506\n",
      "epoch 15\n",
      "0 : loss=0.005824\n",
      "epoch 16\n",
      "0 : loss=0.001009\n",
      "epoch 17\n",
      "0 : loss=0.001310\n",
      "epoch 18\n",
      "0 : loss=0.001001\n",
      "epoch 19\n",
      "0 : loss=0.000869\n",
      "epoch 20\n",
      "0 : loss=0.001258\n",
      "epoch 21\n",
      "0 : loss=0.000668\n",
      "epoch 22\n",
      "0 : loss=0.001426\n",
      "epoch 23\n",
      "0 : loss=0.001354\n",
      "epoch 24\n",
      "0 : loss=0.000570\n",
      "epoch 25\n",
      "0 : loss=0.000904\n",
      "epoch 26\n",
      "0 : loss=0.000873\n",
      "epoch 27\n",
      "0 : loss=0.000255\n",
      "epoch 28\n",
      "0 : loss=0.000328\n",
      "epoch 29\n",
      "0 : loss=0.000323\n",
      "epoch 30\n",
      "0 : loss=0.000329\n"
     ]
    }
   ],
   "source": [
    "net = ANF_net(n_patient, n_feature, n_cluster)\n",
    "optimizer  = optim.Adam(net.parameters(), lr=0.005)\n",
    "loss = nn.CrossEntropyLoss()\n",
    "\n",
    "for i in range(30):\n",
    "    print('epoch {}'.format(i+1))\n",
    "    train_loop(train_dataloader, net, loss, optimizer, noisy_label=False)"
   ]
  },
  {
   "cell_type": "code",
   "execution_count": 5,
   "metadata": {},
   "outputs": [
    {
     "output_type": "execute_result",
     "data": {
      "text/plain": [
       "[<matplotlib.lines.Line2D at 0x20521bae708>]"
      ]
     },
     "metadata": {},
     "execution_count": 5
    },
    {
     "output_type": "display_data",
     "data": {
      "text/plain": "<Figure size 432x288 with 1 Axes>",
      "image/svg+xml": "<?xml version=\"1.0\" encoding=\"utf-8\" standalone=\"no\"?>\r\n<!DOCTYPE svg PUBLIC \"-//W3C//DTD SVG 1.1//EN\"\r\n  \"http://www.w3.org/Graphics/SVG/1.1/DTD/svg11.dtd\">\r\n<!-- Created with matplotlib (https://matplotlib.org/) -->\r\n<svg height=\"248.518125pt\" version=\"1.1\" viewBox=\"0 0 380.437061 248.518125\" width=\"380.437061pt\" xmlns=\"http://www.w3.org/2000/svg\" xmlns:xlink=\"http://www.w3.org/1999/xlink\">\r\n <metadata>\r\n  <rdf:RDF xmlns:cc=\"http://creativecommons.org/ns#\" xmlns:dc=\"http://purl.org/dc/elements/1.1/\" xmlns:rdf=\"http://www.w3.org/1999/02/22-rdf-syntax-ns#\">\r\n   <cc:Work>\r\n    <dc:type rdf:resource=\"http://purl.org/dc/dcmitype/StillImage\"/>\r\n    <dc:date>2021-06-08T14:39:20.185487</dc:date>\r\n    <dc:format>image/svg+xml</dc:format>\r\n    <dc:creator>\r\n     <cc:Agent>\r\n      <dc:title>Matplotlib v3.3.4, https://matplotlib.org/</dc:title>\r\n     </cc:Agent>\r\n    </dc:creator>\r\n   </cc:Work>\r\n  </rdf:RDF>\r\n </metadata>\r\n <defs>\r\n  <style type=\"text/css\">*{stroke-linecap:butt;stroke-linejoin:round;}</style>\r\n </defs>\r\n <g id=\"figure_1\">\r\n  <g id=\"patch_1\">\r\n   <path d=\"M 0 248.518125 \r\nL 380.437061 248.518125 \r\nL 380.437061 0 \r\nL 0 0 \r\nz\r\n\" style=\"fill:none;\"/>\r\n  </g>\r\n  <g id=\"axes_1\">\r\n   <g id=\"patch_2\">\r\n    <path d=\"M 30.103125 224.64 \r\nL 364.903125 224.64 \r\nL 364.903125 7.2 \r\nL 30.103125 7.2 \r\nz\r\n\" style=\"fill:#ffffff;\"/>\r\n   </g>\r\n   <g id=\"matplotlib.axis_1\">\r\n    <g id=\"xtick_1\">\r\n     <g id=\"line2d_1\">\r\n      <defs>\r\n       <path d=\"M 0 0 \r\nL 0 3.5 \r\n\" id=\"m4d50e3330f\" style=\"stroke:#000000;stroke-width:0.8;\"/>\r\n      </defs>\r\n      <g>\r\n       <use style=\"stroke:#000000;stroke-width:0.8;\" x=\"45.321307\" xlink:href=\"#m4d50e3330f\" y=\"224.64\"/>\r\n      </g>\r\n     </g>\r\n     <g id=\"text_1\">\r\n      <!-- 0 -->\r\n      <g transform=\"translate(42.140057 239.238437)scale(0.1 -0.1)\">\r\n       <defs>\r\n        <path d=\"M 31.78125 66.40625 \r\nQ 24.171875 66.40625 20.328125 58.90625 \r\nQ 16.5 51.421875 16.5 36.375 \r\nQ 16.5 21.390625 20.328125 13.890625 \r\nQ 24.171875 6.390625 31.78125 6.390625 \r\nQ 39.453125 6.390625 43.28125 13.890625 \r\nQ 47.125 21.390625 47.125 36.375 \r\nQ 47.125 51.421875 43.28125 58.90625 \r\nQ 39.453125 66.40625 31.78125 66.40625 \r\nz\r\nM 31.78125 74.21875 \r\nQ 44.046875 74.21875 50.515625 64.515625 \r\nQ 56.984375 54.828125 56.984375 36.375 \r\nQ 56.984375 17.96875 50.515625 8.265625 \r\nQ 44.046875 -1.421875 31.78125 -1.421875 \r\nQ 19.53125 -1.421875 13.0625 8.265625 \r\nQ 6.59375 17.96875 6.59375 36.375 \r\nQ 6.59375 54.828125 13.0625 64.515625 \r\nQ 19.53125 74.21875 31.78125 74.21875 \r\nz\r\n\" id=\"DejaVuSans-48\"/>\r\n       </defs>\r\n       <use xlink:href=\"#DejaVuSans-48\"/>\r\n      </g>\r\n     </g>\r\n    </g>\r\n    <g id=\"xtick_2\">\r\n     <g id=\"line2d_2\">\r\n      <g>\r\n       <use style=\"stroke:#000000;stroke-width:0.8;\" x=\"108.995708\" xlink:href=\"#m4d50e3330f\" y=\"224.64\"/>\r\n      </g>\r\n     </g>\r\n     <g id=\"text_2\">\r\n      <!-- 50 -->\r\n      <g transform=\"translate(102.633208 239.238437)scale(0.1 -0.1)\">\r\n       <defs>\r\n        <path d=\"M 10.796875 72.90625 \r\nL 49.515625 72.90625 \r\nL 49.515625 64.59375 \r\nL 19.828125 64.59375 \r\nL 19.828125 46.734375 \r\nQ 21.96875 47.46875 24.109375 47.828125 \r\nQ 26.265625 48.1875 28.421875 48.1875 \r\nQ 40.625 48.1875 47.75 41.5 \r\nQ 54.890625 34.8125 54.890625 23.390625 \r\nQ 54.890625 11.625 47.5625 5.09375 \r\nQ 40.234375 -1.421875 26.90625 -1.421875 \r\nQ 22.3125 -1.421875 17.546875 -0.640625 \r\nQ 12.796875 0.140625 7.71875 1.703125 \r\nL 7.71875 11.625 \r\nQ 12.109375 9.234375 16.796875 8.0625 \r\nQ 21.484375 6.890625 26.703125 6.890625 \r\nQ 35.15625 6.890625 40.078125 11.328125 \r\nQ 45.015625 15.765625 45.015625 23.390625 \r\nQ 45.015625 31 40.078125 35.4375 \r\nQ 35.15625 39.890625 26.703125 39.890625 \r\nQ 22.75 39.890625 18.8125 39.015625 \r\nQ 14.890625 38.140625 10.796875 36.28125 \r\nz\r\n\" id=\"DejaVuSans-53\"/>\r\n       </defs>\r\n       <use xlink:href=\"#DejaVuSans-53\"/>\r\n       <use x=\"63.623047\" xlink:href=\"#DejaVuSans-48\"/>\r\n      </g>\r\n     </g>\r\n    </g>\r\n    <g id=\"xtick_3\">\r\n     <g id=\"line2d_3\">\r\n      <g>\r\n       <use style=\"stroke:#000000;stroke-width:0.8;\" x=\"172.670109\" xlink:href=\"#m4d50e3330f\" y=\"224.64\"/>\r\n      </g>\r\n     </g>\r\n     <g id=\"text_3\">\r\n      <!-- 100 -->\r\n      <g transform=\"translate(163.126359 239.238437)scale(0.1 -0.1)\">\r\n       <defs>\r\n        <path d=\"M 12.40625 8.296875 \r\nL 28.515625 8.296875 \r\nL 28.515625 63.921875 \r\nL 10.984375 60.40625 \r\nL 10.984375 69.390625 \r\nL 28.421875 72.90625 \r\nL 38.28125 72.90625 \r\nL 38.28125 8.296875 \r\nL 54.390625 8.296875 \r\nL 54.390625 0 \r\nL 12.40625 0 \r\nz\r\n\" id=\"DejaVuSans-49\"/>\r\n       </defs>\r\n       <use xlink:href=\"#DejaVuSans-49\"/>\r\n       <use x=\"63.623047\" xlink:href=\"#DejaVuSans-48\"/>\r\n       <use x=\"127.246094\" xlink:href=\"#DejaVuSans-48\"/>\r\n      </g>\r\n     </g>\r\n    </g>\r\n    <g id=\"xtick_4\">\r\n     <g id=\"line2d_4\">\r\n      <g>\r\n       <use style=\"stroke:#000000;stroke-width:0.8;\" x=\"236.34451\" xlink:href=\"#m4d50e3330f\" y=\"224.64\"/>\r\n      </g>\r\n     </g>\r\n     <g id=\"text_4\">\r\n      <!-- 150 -->\r\n      <g transform=\"translate(226.80076 239.238437)scale(0.1 -0.1)\">\r\n       <use xlink:href=\"#DejaVuSans-49\"/>\r\n       <use x=\"63.623047\" xlink:href=\"#DejaVuSans-53\"/>\r\n       <use x=\"127.246094\" xlink:href=\"#DejaVuSans-48\"/>\r\n      </g>\r\n     </g>\r\n    </g>\r\n    <g id=\"xtick_5\">\r\n     <g id=\"line2d_5\">\r\n      <g>\r\n       <use style=\"stroke:#000000;stroke-width:0.8;\" x=\"300.01891\" xlink:href=\"#m4d50e3330f\" y=\"224.64\"/>\r\n      </g>\r\n     </g>\r\n     <g id=\"text_5\">\r\n      <!-- 200 -->\r\n      <g transform=\"translate(290.47516 239.238437)scale(0.1 -0.1)\">\r\n       <defs>\r\n        <path d=\"M 19.1875 8.296875 \r\nL 53.609375 8.296875 \r\nL 53.609375 0 \r\nL 7.328125 0 \r\nL 7.328125 8.296875 \r\nQ 12.9375 14.109375 22.625 23.890625 \r\nQ 32.328125 33.6875 34.8125 36.53125 \r\nQ 39.546875 41.84375 41.421875 45.53125 \r\nQ 43.3125 49.21875 43.3125 52.78125 \r\nQ 43.3125 58.59375 39.234375 62.25 \r\nQ 35.15625 65.921875 28.609375 65.921875 \r\nQ 23.96875 65.921875 18.8125 64.3125 \r\nQ 13.671875 62.703125 7.8125 59.421875 \r\nL 7.8125 69.390625 \r\nQ 13.765625 71.78125 18.9375 73 \r\nQ 24.125 74.21875 28.421875 74.21875 \r\nQ 39.75 74.21875 46.484375 68.546875 \r\nQ 53.21875 62.890625 53.21875 53.421875 \r\nQ 53.21875 48.921875 51.53125 44.890625 \r\nQ 49.859375 40.875 45.40625 35.40625 \r\nQ 44.1875 33.984375 37.640625 27.21875 \r\nQ 31.109375 20.453125 19.1875 8.296875 \r\nz\r\n\" id=\"DejaVuSans-50\"/>\r\n       </defs>\r\n       <use xlink:href=\"#DejaVuSans-50\"/>\r\n       <use x=\"63.623047\" xlink:href=\"#DejaVuSans-48\"/>\r\n       <use x=\"127.246094\" xlink:href=\"#DejaVuSans-48\"/>\r\n      </g>\r\n     </g>\r\n    </g>\r\n    <g id=\"xtick_6\">\r\n     <g id=\"line2d_6\">\r\n      <g>\r\n       <use style=\"stroke:#000000;stroke-width:0.8;\" x=\"363.693311\" xlink:href=\"#m4d50e3330f\" y=\"224.64\"/>\r\n      </g>\r\n     </g>\r\n     <g id=\"text_6\">\r\n      <!-- 250 -->\r\n      <g transform=\"translate(354.149561 239.238437)scale(0.1 -0.1)\">\r\n       <use xlink:href=\"#DejaVuSans-50\"/>\r\n       <use x=\"63.623047\" xlink:href=\"#DejaVuSans-53\"/>\r\n       <use x=\"127.246094\" xlink:href=\"#DejaVuSans-48\"/>\r\n      </g>\r\n     </g>\r\n    </g>\r\n   </g>\r\n   <g id=\"matplotlib.axis_2\">\r\n    <g id=\"ytick_1\">\r\n     <g id=\"line2d_7\">\r\n      <defs>\r\n       <path d=\"M 0 0 \r\nL -3.5 0 \r\n\" id=\"m64d672d9e4\" style=\"stroke:#000000;stroke-width:0.8;\"/>\r\n      </defs>\r\n      <g>\r\n       <use style=\"stroke:#000000;stroke-width:0.8;\" x=\"30.103125\" xlink:href=\"#m64d672d9e4\" y=\"214.804236\"/>\r\n      </g>\r\n     </g>\r\n     <g id=\"text_7\">\r\n      <!-- 0.0 -->\r\n      <g transform=\"translate(7.2 218.603454)scale(0.1 -0.1)\">\r\n       <defs>\r\n        <path d=\"M 10.6875 12.40625 \r\nL 21 12.40625 \r\nL 21 0 \r\nL 10.6875 0 \r\nz\r\n\" id=\"DejaVuSans-46\"/>\r\n       </defs>\r\n       <use xlink:href=\"#DejaVuSans-48\"/>\r\n       <use x=\"63.623047\" xlink:href=\"#DejaVuSans-46\"/>\r\n       <use x=\"95.410156\" xlink:href=\"#DejaVuSans-48\"/>\r\n      </g>\r\n     </g>\r\n    </g>\r\n    <g id=\"ytick_2\">\r\n     <g id=\"line2d_8\">\r\n      <g>\r\n       <use style=\"stroke:#000000;stroke-width:0.8;\" x=\"30.103125\" xlink:href=\"#m64d672d9e4\" y=\"189.44691\"/>\r\n      </g>\r\n     </g>\r\n     <g id=\"text_8\">\r\n      <!-- 0.1 -->\r\n      <g transform=\"translate(7.2 193.246129)scale(0.1 -0.1)\">\r\n       <use xlink:href=\"#DejaVuSans-48\"/>\r\n       <use x=\"63.623047\" xlink:href=\"#DejaVuSans-46\"/>\r\n       <use x=\"95.410156\" xlink:href=\"#DejaVuSans-49\"/>\r\n      </g>\r\n     </g>\r\n    </g>\r\n    <g id=\"ytick_3\">\r\n     <g id=\"line2d_9\">\r\n      <g>\r\n       <use style=\"stroke:#000000;stroke-width:0.8;\" x=\"30.103125\" xlink:href=\"#m64d672d9e4\" y=\"164.089585\"/>\r\n      </g>\r\n     </g>\r\n     <g id=\"text_9\">\r\n      <!-- 0.2 -->\r\n      <g transform=\"translate(7.2 167.888803)scale(0.1 -0.1)\">\r\n       <use xlink:href=\"#DejaVuSans-48\"/>\r\n       <use x=\"63.623047\" xlink:href=\"#DejaVuSans-46\"/>\r\n       <use x=\"95.410156\" xlink:href=\"#DejaVuSans-50\"/>\r\n      </g>\r\n     </g>\r\n    </g>\r\n    <g id=\"ytick_4\">\r\n     <g id=\"line2d_10\">\r\n      <g>\r\n       <use style=\"stroke:#000000;stroke-width:0.8;\" x=\"30.103125\" xlink:href=\"#m64d672d9e4\" y=\"138.732259\"/>\r\n      </g>\r\n     </g>\r\n     <g id=\"text_10\">\r\n      <!-- 0.3 -->\r\n      <g transform=\"translate(7.2 142.531478)scale(0.1 -0.1)\">\r\n       <defs>\r\n        <path d=\"M 40.578125 39.3125 \r\nQ 47.65625 37.796875 51.625 33 \r\nQ 55.609375 28.21875 55.609375 21.1875 \r\nQ 55.609375 10.40625 48.1875 4.484375 \r\nQ 40.765625 -1.421875 27.09375 -1.421875 \r\nQ 22.515625 -1.421875 17.65625 -0.515625 \r\nQ 12.796875 0.390625 7.625 2.203125 \r\nL 7.625 11.71875 \r\nQ 11.71875 9.328125 16.59375 8.109375 \r\nQ 21.484375 6.890625 26.8125 6.890625 \r\nQ 36.078125 6.890625 40.9375 10.546875 \r\nQ 45.796875 14.203125 45.796875 21.1875 \r\nQ 45.796875 27.640625 41.28125 31.265625 \r\nQ 36.765625 34.90625 28.71875 34.90625 \r\nL 20.21875 34.90625 \r\nL 20.21875 43.015625 \r\nL 29.109375 43.015625 \r\nQ 36.375 43.015625 40.234375 45.921875 \r\nQ 44.09375 48.828125 44.09375 54.296875 \r\nQ 44.09375 59.90625 40.109375 62.90625 \r\nQ 36.140625 65.921875 28.71875 65.921875 \r\nQ 24.65625 65.921875 20.015625 65.03125 \r\nQ 15.375 64.15625 9.8125 62.3125 \r\nL 9.8125 71.09375 \r\nQ 15.4375 72.65625 20.34375 73.4375 \r\nQ 25.25 74.21875 29.59375 74.21875 \r\nQ 40.828125 74.21875 47.359375 69.109375 \r\nQ 53.90625 64.015625 53.90625 55.328125 \r\nQ 53.90625 49.265625 50.4375 45.09375 \r\nQ 46.96875 40.921875 40.578125 39.3125 \r\nz\r\n\" id=\"DejaVuSans-51\"/>\r\n       </defs>\r\n       <use xlink:href=\"#DejaVuSans-48\"/>\r\n       <use x=\"63.623047\" xlink:href=\"#DejaVuSans-46\"/>\r\n       <use x=\"95.410156\" xlink:href=\"#DejaVuSans-51\"/>\r\n      </g>\r\n     </g>\r\n    </g>\r\n    <g id=\"ytick_5\">\r\n     <g id=\"line2d_11\">\r\n      <g>\r\n       <use style=\"stroke:#000000;stroke-width:0.8;\" x=\"30.103125\" xlink:href=\"#m64d672d9e4\" y=\"113.374934\"/>\r\n      </g>\r\n     </g>\r\n     <g id=\"text_11\">\r\n      <!-- 0.4 -->\r\n      <g transform=\"translate(7.2 117.174152)scale(0.1 -0.1)\">\r\n       <defs>\r\n        <path d=\"M 37.796875 64.3125 \r\nL 12.890625 25.390625 \r\nL 37.796875 25.390625 \r\nz\r\nM 35.203125 72.90625 \r\nL 47.609375 72.90625 \r\nL 47.609375 25.390625 \r\nL 58.015625 25.390625 \r\nL 58.015625 17.1875 \r\nL 47.609375 17.1875 \r\nL 47.609375 0 \r\nL 37.796875 0 \r\nL 37.796875 17.1875 \r\nL 4.890625 17.1875 \r\nL 4.890625 26.703125 \r\nz\r\n\" id=\"DejaVuSans-52\"/>\r\n       </defs>\r\n       <use xlink:href=\"#DejaVuSans-48\"/>\r\n       <use x=\"63.623047\" xlink:href=\"#DejaVuSans-46\"/>\r\n       <use x=\"95.410156\" xlink:href=\"#DejaVuSans-52\"/>\r\n      </g>\r\n     </g>\r\n    </g>\r\n    <g id=\"ytick_6\">\r\n     <g id=\"line2d_12\">\r\n      <g>\r\n       <use style=\"stroke:#000000;stroke-width:0.8;\" x=\"30.103125\" xlink:href=\"#m64d672d9e4\" y=\"88.017608\"/>\r\n      </g>\r\n     </g>\r\n     <g id=\"text_12\">\r\n      <!-- 0.5 -->\r\n      <g transform=\"translate(7.2 91.816827)scale(0.1 -0.1)\">\r\n       <use xlink:href=\"#DejaVuSans-48\"/>\r\n       <use x=\"63.623047\" xlink:href=\"#DejaVuSans-46\"/>\r\n       <use x=\"95.410156\" xlink:href=\"#DejaVuSans-53\"/>\r\n      </g>\r\n     </g>\r\n    </g>\r\n    <g id=\"ytick_7\">\r\n     <g id=\"line2d_13\">\r\n      <g>\r\n       <use style=\"stroke:#000000;stroke-width:0.8;\" x=\"30.103125\" xlink:href=\"#m64d672d9e4\" y=\"62.660283\"/>\r\n      </g>\r\n     </g>\r\n     <g id=\"text_13\">\r\n      <!-- 0.6 -->\r\n      <g transform=\"translate(7.2 66.459501)scale(0.1 -0.1)\">\r\n       <defs>\r\n        <path d=\"M 33.015625 40.375 \r\nQ 26.375 40.375 22.484375 35.828125 \r\nQ 18.609375 31.296875 18.609375 23.390625 \r\nQ 18.609375 15.53125 22.484375 10.953125 \r\nQ 26.375 6.390625 33.015625 6.390625 \r\nQ 39.65625 6.390625 43.53125 10.953125 \r\nQ 47.40625 15.53125 47.40625 23.390625 \r\nQ 47.40625 31.296875 43.53125 35.828125 \r\nQ 39.65625 40.375 33.015625 40.375 \r\nz\r\nM 52.59375 71.296875 \r\nL 52.59375 62.3125 \r\nQ 48.875 64.0625 45.09375 64.984375 \r\nQ 41.3125 65.921875 37.59375 65.921875 \r\nQ 27.828125 65.921875 22.671875 59.328125 \r\nQ 17.53125 52.734375 16.796875 39.40625 \r\nQ 19.671875 43.65625 24.015625 45.921875 \r\nQ 28.375 48.1875 33.59375 48.1875 \r\nQ 44.578125 48.1875 50.953125 41.515625 \r\nQ 57.328125 34.859375 57.328125 23.390625 \r\nQ 57.328125 12.15625 50.6875 5.359375 \r\nQ 44.046875 -1.421875 33.015625 -1.421875 \r\nQ 20.359375 -1.421875 13.671875 8.265625 \r\nQ 6.984375 17.96875 6.984375 36.375 \r\nQ 6.984375 53.65625 15.1875 63.9375 \r\nQ 23.390625 74.21875 37.203125 74.21875 \r\nQ 40.921875 74.21875 44.703125 73.484375 \r\nQ 48.484375 72.75 52.59375 71.296875 \r\nz\r\n\" id=\"DejaVuSans-54\"/>\r\n       </defs>\r\n       <use xlink:href=\"#DejaVuSans-48\"/>\r\n       <use x=\"63.623047\" xlink:href=\"#DejaVuSans-46\"/>\r\n       <use x=\"95.410156\" xlink:href=\"#DejaVuSans-54\"/>\r\n      </g>\r\n     </g>\r\n    </g>\r\n    <g id=\"ytick_8\">\r\n     <g id=\"line2d_14\">\r\n      <g>\r\n       <use style=\"stroke:#000000;stroke-width:0.8;\" x=\"30.103125\" xlink:href=\"#m64d672d9e4\" y=\"37.302957\"/>\r\n      </g>\r\n     </g>\r\n     <g id=\"text_14\">\r\n      <!-- 0.7 -->\r\n      <g transform=\"translate(7.2 41.102176)scale(0.1 -0.1)\">\r\n       <defs>\r\n        <path d=\"M 8.203125 72.90625 \r\nL 55.078125 72.90625 \r\nL 55.078125 68.703125 \r\nL 28.609375 0 \r\nL 18.3125 0 \r\nL 43.21875 64.59375 \r\nL 8.203125 64.59375 \r\nz\r\n\" id=\"DejaVuSans-55\"/>\r\n       </defs>\r\n       <use xlink:href=\"#DejaVuSans-48\"/>\r\n       <use x=\"63.623047\" xlink:href=\"#DejaVuSans-46\"/>\r\n       <use x=\"95.410156\" xlink:href=\"#DejaVuSans-55\"/>\r\n      </g>\r\n     </g>\r\n    </g>\r\n    <g id=\"ytick_9\">\r\n     <g id=\"line2d_15\">\r\n      <g>\r\n       <use style=\"stroke:#000000;stroke-width:0.8;\" x=\"30.103125\" xlink:href=\"#m64d672d9e4\" y=\"11.945632\"/>\r\n      </g>\r\n     </g>\r\n     <g id=\"text_15\">\r\n      <!-- 0.8 -->\r\n      <g transform=\"translate(7.2 15.74485)scale(0.1 -0.1)\">\r\n       <defs>\r\n        <path d=\"M 31.78125 34.625 \r\nQ 24.75 34.625 20.71875 30.859375 \r\nQ 16.703125 27.09375 16.703125 20.515625 \r\nQ 16.703125 13.921875 20.71875 10.15625 \r\nQ 24.75 6.390625 31.78125 6.390625 \r\nQ 38.8125 6.390625 42.859375 10.171875 \r\nQ 46.921875 13.96875 46.921875 20.515625 \r\nQ 46.921875 27.09375 42.890625 30.859375 \r\nQ 38.875 34.625 31.78125 34.625 \r\nz\r\nM 21.921875 38.8125 \r\nQ 15.578125 40.375 12.03125 44.71875 \r\nQ 8.5 49.078125 8.5 55.328125 \r\nQ 8.5 64.0625 14.71875 69.140625 \r\nQ 20.953125 74.21875 31.78125 74.21875 \r\nQ 42.671875 74.21875 48.875 69.140625 \r\nQ 55.078125 64.0625 55.078125 55.328125 \r\nQ 55.078125 49.078125 51.53125 44.71875 \r\nQ 48 40.375 41.703125 38.8125 \r\nQ 48.828125 37.15625 52.796875 32.3125 \r\nQ 56.78125 27.484375 56.78125 20.515625 \r\nQ 56.78125 9.90625 50.3125 4.234375 \r\nQ 43.84375 -1.421875 31.78125 -1.421875 \r\nQ 19.734375 -1.421875 13.25 4.234375 \r\nQ 6.78125 9.90625 6.78125 20.515625 \r\nQ 6.78125 27.484375 10.78125 32.3125 \r\nQ 14.796875 37.15625 21.921875 38.8125 \r\nz\r\nM 18.3125 54.390625 \r\nQ 18.3125 48.734375 21.84375 45.5625 \r\nQ 25.390625 42.390625 31.78125 42.390625 \r\nQ 38.140625 42.390625 41.71875 45.5625 \r\nQ 45.3125 48.734375 45.3125 54.390625 \r\nQ 45.3125 60.0625 41.71875 63.234375 \r\nQ 38.140625 66.40625 31.78125 66.40625 \r\nQ 25.390625 66.40625 21.84375 63.234375 \r\nQ 18.3125 60.0625 18.3125 54.390625 \r\nz\r\n\" id=\"DejaVuSans-56\"/>\r\n       </defs>\r\n       <use xlink:href=\"#DejaVuSans-48\"/>\r\n       <use x=\"63.623047\" xlink:href=\"#DejaVuSans-46\"/>\r\n       <use x=\"95.410156\" xlink:href=\"#DejaVuSans-56\"/>\r\n      </g>\r\n     </g>\r\n    </g>\r\n   </g>\r\n   <g id=\"line2d_16\">\r\n    <path clip-path=\"url(#pcc23f3992f)\" d=\"M 45.321307 30.016703 \r\nL 46.594795 64.128404 \r\nL 47.868283 42.8987 \r\nL 49.141771 53.538211 \r\nL 50.415259 72.409534 \r\nL 51.688747 52.889799 \r\nL 52.962235 89.996397 \r\nL 54.235723 101.688714 \r\nL 55.509211 91.8463 \r\nL 56.782699 72.125116 \r\nL 58.056187 115.768899 \r\nL 59.329675 17.083636 \r\nL 60.603163 70.090934 \r\nL 61.876651 93.71533 \r\nL 63.150139 92.791652 \r\nL 64.423627 41.548704 \r\nL 65.697115 90.566185 \r\nL 66.970603 73.972427 \r\nL 68.244091 59.548425 \r\nL 69.517579 86.799907 \r\nL 70.791067 73.400327 \r\nL 72.064555 74.859204 \r\nL 73.338043 60.647103 \r\nL 74.611531 100.909285 \r\nL 75.885019 76.526929 \r\nL 77.158507 39.789327 \r\nL 78.431995 95.345708 \r\nL 79.705483 78.144052 \r\nL 80.978971 152.321137 \r\nL 82.252459 55.37937 \r\nL 83.525947 75.439497 \r\nL 84.799435 62.893533 \r\nL 86.072923 79.024632 \r\nL 87.346411 60.329796 \r\nL 88.619899 97.949157 \r\nL 89.893387 98.011949 \r\nL 91.166875 82.539713 \r\nL 92.440363 69.931827 \r\nL 93.713852 83.563243 \r\nL 94.98734 108.507483 \r\nL 96.260828 75.03545 \r\nL 97.534316 85.546068 \r\nL 98.807804 138.193966 \r\nL 100.081292 71.74229 \r\nL 101.35478 149.229717 \r\nL 102.628268 69.592318 \r\nL 103.901756 50.329433 \r\nL 105.175244 107.452583 \r\nL 106.448732 132.634289 \r\nL 107.72222 86.807902 \r\nL 108.995708 116.103965 \r\nL 110.269196 112.321219 \r\nL 111.542684 125.05416 \r\nL 112.816172 87.10021 \r\nL 114.08966 111.269214 \r\nL 115.363148 146.93675 \r\nL 116.636636 116.084089 \r\nL 117.910124 131.321036 \r\nL 119.183612 125.61686 \r\nL 120.4571 164.539694 \r\nL 121.730588 173.192058 \r\nL 123.004076 131.735186 \r\nL 124.277564 144.333051 \r\nL 125.551052 158.687917 \r\nL 126.82454 165.341677 \r\nL 128.098028 176.051136 \r\nL 129.371516 163.684812 \r\nL 130.645004 168.874684 \r\nL 131.918492 178.555339 \r\nL 133.19198 176.801161 \r\nL 134.465468 188.850532 \r\nL 135.738956 177.448915 \r\nL 137.012444 190.735051 \r\nL 138.285932 193.174351 \r\nL 139.55942 197.230237 \r\nL 140.832908 199.096235 \r\nL 142.106396 202.008829 \r\nL 143.379884 203.257595 \r\nL 144.653372 192.697157 \r\nL 145.92686 201.965337 \r\nL 147.200348 207.918542 \r\nL 148.473836 208.65475 \r\nL 149.747324 204.744454 \r\nL 151.020812 207.342719 \r\nL 152.2943 211.323826 \r\nL 153.567788 208.406153 \r\nL 154.841276 208.442762 \r\nL 156.114764 212.43679 \r\nL 157.388252 212.199139 \r\nL 158.66174 213.00723 \r\nL 159.935228 207.580046 \r\nL 161.208716 207.88939 \r\nL 162.482204 212.984052 \r\nL 163.755693 213.542902 \r\nL 165.029181 211.685949 \r\nL 166.302669 213.112355 \r\nL 167.576157 211.422249 \r\nL 168.849645 213.909502 \r\nL 170.123133 212.722585 \r\nL 171.396621 213.899132 \r\nL 172.670109 213.197146 \r\nL 173.943597 214.250811 \r\nL 175.217085 212.909053 \r\nL 176.490573 213.644566 \r\nL 177.764061 214.16886 \r\nL 179.037549 214.231134 \r\nL 180.311037 212.501925 \r\nL 181.584525 214.41122 \r\nL 182.858013 214.173453 \r\nL 184.131501 214.308206 \r\nL 185.404989 212.769584 \r\nL 186.678477 214.424326 \r\nL 187.951965 213.327472 \r\nL 189.225453 214.502209 \r\nL 190.498941 214.1704 \r\nL 191.772429 214.290929 \r\nL 193.045917 214.27032 \r\nL 194.319405 214.614097 \r\nL 195.592893 214.161667 \r\nL 196.866381 213.559473 \r\nL 198.139869 214.548481 \r\nL 199.413357 214.129114 \r\nL 200.686845 214.12189 \r\nL 201.960333 214.446213 \r\nL 203.233821 213.835824 \r\nL 204.507309 214.307431 \r\nL 205.780797 214.536847 \r\nL 207.054285 214.155842 \r\nL 208.327773 214.472033 \r\nL 209.601261 214.529929 \r\nL 210.874749 214.323211 \r\nL 212.148237 214.387199 \r\nL 213.421725 213.965511 \r\nL 214.695213 214.089468 \r\nL 215.968701 214.528802 \r\nL 218.515677 214.550467 \r\nL 219.789165 214.194888 \r\nL 221.062653 214.140114 \r\nL 222.336141 214.513016 \r\nL 223.609629 214.543945 \r\nL 224.883117 214.350641 \r\nL 226.156605 214.331079 \r\nL 227.430093 214.646412 \r\nL 231.250557 214.357024 \r\nL 232.524046 214.555733 \r\nL 233.797534 214.044143 \r\nL 235.071022 214.498786 \r\nL 238.891486 214.485157 \r\nL 240.164974 214.315146 \r\nL 241.438462 214.547577 \r\nL 242.71195 214.655764 \r\nL 245.258926 214.302391 \r\nL 246.532414 214.604871 \r\nL 250.352878 214.578353 \r\nL 251.626366 214.479652 \r\nL 252.899854 214.680679 \r\nL 254.173342 214.5557 \r\nL 255.44683 214.630162 \r\nL 257.993806 214.29646 \r\nL 260.540782 214.66608 \r\nL 261.81427 214.548038 \r\nL 263.087758 214.698319 \r\nL 265.634734 214.530435 \r\nL 266.908222 214.600488 \r\nL 268.18171 214.326288 \r\nL 272.002174 214.685011 \r\nL 273.275662 214.425266 \r\nL 274.54915 214.693719 \r\nL 275.822638 214.696727 \r\nL 278.369614 214.426443 \r\nL 279.643102 214.659635 \r\nL 282.190078 214.461174 \r\nL 284.737054 214.679408 \r\nL 286.010542 214.54986 \r\nL 288.557518 214.680634 \r\nL 289.831006 214.575053 \r\nL 291.104494 214.688391 \r\nL 292.377982 214.474536 \r\nL 294.924958 214.725186 \r\nL 296.198446 214.528327 \r\nL 297.471934 214.719368 \r\nL 298.745422 214.734415 \r\nL 300.01891 214.582804 \r\nL 301.292398 214.713589 \r\nL 307.659839 214.561347 \r\nL 310.206815 214.739605 \r\nL 311.480303 214.607516 \r\nL 312.753791 214.719369 \r\nL 314.027279 214.540788 \r\nL 315.300767 214.696836 \r\nL 316.574255 214.475767 \r\nL 317.847743 214.701457 \r\nL 321.668207 214.744144 \r\nL 324.215183 214.615049 \r\nL 325.488671 214.745218 \r\nL 326.762159 214.5194 \r\nL 330.582623 214.722416 \r\nL 333.129599 214.569892 \r\nL 334.403087 214.746617 \r\nL 339.497039 214.631183 \r\nL 342.044015 214.756364 \r\nL 343.317503 214.634767 \r\nL 345.864479 214.687832 \r\nL 347.137967 214.735844 \r\nL 348.411455 214.476512 \r\nL 349.684943 214.740684 \r\nL 349.684943 214.740684 \r\n\" style=\"fill:none;stroke:#1f77b4;stroke-linecap:square;stroke-width:1.5;\"/>\r\n   </g>\r\n   <g id=\"patch_3\">\r\n    <path d=\"M 30.103125 224.64 \r\nL 30.103125 7.2 \r\n\" style=\"fill:none;stroke:#000000;stroke-linecap:square;stroke-linejoin:miter;stroke-width:0.8;\"/>\r\n   </g>\r\n   <g id=\"patch_4\">\r\n    <path d=\"M 364.903125 224.64 \r\nL 364.903125 7.2 \r\n\" style=\"fill:none;stroke:#000000;stroke-linecap:square;stroke-linejoin:miter;stroke-width:0.8;\"/>\r\n   </g>\r\n   <g id=\"patch_5\">\r\n    <path d=\"M 30.103125 224.64 \r\nL 364.903125 224.64 \r\n\" style=\"fill:none;stroke:#000000;stroke-linecap:square;stroke-linejoin:miter;stroke-width:0.8;\"/>\r\n   </g>\r\n   <g id=\"patch_6\">\r\n    <path d=\"M 30.103125 7.2 \r\nL 364.903125 7.2 \r\n\" style=\"fill:none;stroke:#000000;stroke-linecap:square;stroke-linejoin:miter;stroke-width:0.8;\"/>\r\n   </g>\r\n  </g>\r\n </g>\r\n <defs>\r\n  <clipPath id=\"pcc23f3992f\">\r\n   <rect height=\"217.44\" width=\"334.8\" x=\"30.103125\" y=\"7.2\"/>\r\n  </clipPath>\r\n </defs>\r\n</svg>\r\n",
      "image/png": "[encoded data removed]"
     },
     "metadata": {
      "needs_background": "light"
     }
    }
   ],
   "source": [
    "plt.plot(loss_list)"
   ]
  },
  {
   "cell_type": "code",
   "execution_count": 6,
   "metadata": {},
   "outputs": [
    {
     "output_type": "stream",
     "name": "stdout",
     "text": [
      "Accuracy: 96.06%\n"
     ]
    }
   ],
   "source": [
    "def test_loop(dataloader, model, loss_fn):\n",
    "    true_cnt = 0\n",
    "    tot_cnt = 0\n",
    "    with torch.no_grad():\n",
    "        for x, label in dataloader:\n",
    "            label = label[0]\n",
    "            output = model(x)\n",
    "            y_pred = np.argmax(output, axis = 1)\n",
    "            #print('y_pred=', y_pred)\n",
    "            #print('label=', label.numpy())\n",
    "            true_cnt += np.sum(y_pred.numpy() == label.numpy())\n",
    "            tot_cnt += len(label)\n",
    "        correct = true_cnt / tot_cnt\n",
    "        print('Accuracy: {:.2f}%'.format(correct * 100))\n",
    "    \n",
    "test_loop(test_dataloader, net, loss)"
   ]
  },
  {
   "cell_type": "code",
   "execution_count": 7,
   "metadata": {},
   "outputs": [
    {
     "output_type": "stream",
     "name": "stdout",
     "text": [
      "weight.weight Parameter containing:\ntensor([[[-1.0835],\n         [-0.1534],\n         [-1.1840]]], requires_grad=True)\nweight.bias Parameter containing:\ntensor([-0.0508], requires_grad=True)\n"
     ]
    }
   ],
   "source": [
    "# 查看第一层（融合层）3个图的权重\n",
    "for name, p in net.named_parameters():\n",
    "    if(name[:6] == 'weight'):\n",
    "        print(name, p)"
   ]
  },
  {
   "cell_type": "code",
   "execution_count": null,
   "metadata": {},
   "outputs": [],
   "source": []
  }
 ]
}